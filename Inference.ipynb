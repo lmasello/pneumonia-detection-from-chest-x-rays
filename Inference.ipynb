{
 "cells": [
  {
   "cell_type": "markdown",
   "metadata": {},
   "source": [
    "# Clinical workflow integration"
   ]
  },
  {
   "cell_type": "markdown",
   "metadata": {},
   "source": [
    "The imaging data provided for training the model was transformed from DICOM format into .png to help aid in the image pre-processing and model training steps of this project. In the real world, however, the pixel-level imaging data are contained inside of standard DICOM files. \n",
    "\n",
    "This notebook creates a DICOM wrapper that takes in a standard DICOM file and outputs data in the format accepted by the model:\n",
    "* Proper image acquisition type (i.e. X-ray)\n",
    "* Proper image acquisition orientation (i.e. those present in your training data)\n",
    "* Proper body part in acquisition"
   ]
  },
  {
   "cell_type": "code",
   "execution_count": 1,
   "metadata": {},
   "outputs": [
    {
     "name": "stderr",
     "output_type": "stream",
     "text": [
      "Using TensorFlow backend.\n"
     ]
    }
   ],
   "source": [
    "import keras \n",
    "import matplotlib.pyplot as plt\n",
    "import numpy as np\n",
    "import pandas as pd\n",
    "import pydicom\n",
    "\n",
    "from PIL import Image\n",
    "from typing import Optional, Tuple\n",
    "\n",
    "%matplotlib inline"
   ]
  },
  {
   "cell_type": "code",
   "execution_count": 2,
   "metadata": {},
   "outputs": [],
   "source": [
    "def read_dicom(filename:str) -> Optional[np.array]:\n",
    "    '''Reads in a .dcm file and returns an array with the image data\n",
    "    \n",
    "    The model returns None if the DICOM file is not appropriate for the\n",
    "    classifier. In particular, it checks for:\n",
    "        - Digital radiographies\n",
    "        - Chest parts\n",
    "        - Body position \n",
    "    \n",
    "    See: https://www.dicomlibrary.com/dicom/ for code references\n",
    "    '''\n",
    "    ds = pydicom.dcmread(filename)\n",
    "    \n",
    "    if ds.Modality != 'DX':\n",
    "        print('Modality not supported:', ds.Modality)\n",
    "        print('This device only works with the DX modality (Digital Radiography)')\n",
    "        return None\n",
    "    \n",
    "    if ds.BodyPartExamined != 'CHEST':\n",
    "        print('Body part not supported:', ds.BodyPartExamined)\n",
    "        print('This device only works with Chest Radiographies')\n",
    "        return None\n",
    "    \n",
    "    if ds.PatientPosition not in ['AP', 'PA']:\n",
    "        print('Body position not supported:', ds.PatientPosition)\n",
    "        print('This device only works with AP or PA positions')\n",
    "        return None\n",
    "    \n",
    "    print(f'Patient age: {ds.PatientAge}, sex: {ds.PatientSex}')\n",
    "    print('Study description:', ds.StudyDescription)\n",
    "    return ds.pixel_array\n",
    "    \n",
    "    \n",
    "def preprocess_image(img_array : np.array, img_size : Tuple[int]):\n",
    "    '''Pre-process the image to the format expected by the classifier'''\n",
    "    batch, height, width, channels = img_size\n",
    "    img = Image.fromarray(img_array)\n",
    "    img = img.resize((height, width))\n",
    "    img = np.array(img)\n",
    "    img = img / 255.\n",
    "    \n",
    "    if len(img.shape) == 2:\n",
    "        img = np.dstack((img, img, img))\n",
    "    img = np.expand_dims(img, axis=0)\n",
    "    return img\n",
    "\n",
    "\n",
    "def load_model(model_path, weight_path):\n",
    "    '''Loads in a model with weights and compiles it'''\n",
    "    with open(model_path) as model_json:\n",
    "        model = keras.models.model_from_json(model_json.read())\n",
    "    model.load_weights(weight_path)\n",
    "    return model\n",
    "\n",
    "\n",
    "def predict_image(model, img, thresh): \n",
    "    '''Predict the presence of pneumonia in the image'''\n",
    "    prob = model.predict(img)[0][0]\n",
    "    print('Probability of Pneumonia:', prob)\n",
    "    prediction = prob > thresh\n",
    "    print('Predicted Pneumonia:', prediction)\n",
    "    print()\n",
    "    return prediction"
   ]
  },
  {
   "cell_type": "code",
   "execution_count": 3,
   "metadata": {},
   "outputs": [
    {
     "name": "stdout",
     "output_type": "stream",
     "text": [
      "Patient age: 81, sex: M\n",
      "Study description: No Finding\n",
      "Probability of Pneumonia: 0.67513233\n",
      "Predicted Pneumonia: True\n",
      "\n",
      "Patient age: 58, sex: M\n",
      "Study description: Cardiomegaly\n",
      "Probability of Pneumonia: 0.055348597\n",
      "Predicted Pneumonia: False\n",
      "\n",
      "Patient age: 77, sex: M\n",
      "Study description: Effusion\n",
      "Probability of Pneumonia: 0.22254159\n",
      "Predicted Pneumonia: True\n",
      "\n",
      "Body part not supported: RIBCAGE\n",
      "This device only works with Chest Radiographies\n",
      "Modality not supported: CT\n",
      "This device only works with the DX modality (Digital Radiography)\n",
      "Body position not supported: XX\n",
      "This device only works with AP or PA positions\n"
     ]
    }
   ],
   "source": [
    "test_dicoms = ['test1.dcm','test2.dcm','test3.dcm','test4.dcm','test5.dcm','test6.dcm']\n",
    "\n",
    "model_path = 'my_model.json'\n",
    "weight_path = 'xray_class_my_model.best.hdf5'\n",
    "\n",
    "IMG_SIZE=(1, 224, 224, 3)\n",
    "\n",
    "my_model = load_model(model_path, weight_path)\n",
    "thresh = 0.13216244\n",
    "\n",
    "# use the .dcm files to test your prediction\n",
    "for i in test_dicoms:\n",
    "    img = read_dicom(i)\n",
    "    if img is None:\n",
    "        continue\n",
    "        \n",
    "    img_proc = preprocess_image(img, IMG_SIZE)\n",
    "    pred = predict_image(my_model,img_proc,thresh)"
   ]
  },
  {
   "cell_type": "code",
   "execution_count": null,
   "metadata": {},
   "outputs": [],
   "source": []
  }
 ],
 "metadata": {
  "kernelspec": {
   "display_name": "Python 3",
   "language": "python",
   "name": "python3"
  },
  "language_info": {
   "codemirror_mode": {
    "name": "ipython",
    "version": 3
   },
   "file_extension": ".py",
   "mimetype": "text/x-python",
   "name": "python",
   "nbconvert_exporter": "python",
   "pygments_lexer": "ipython3",
   "version": "3.7.6"
  }
 },
 "nbformat": 4,
 "nbformat_minor": 2
}
